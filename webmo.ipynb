{
 "cells": [
  {
   "cell_type": "code",
   "execution_count": null,
   "metadata": {},
   "outputs": [
    {
     "name": "stdout",
     "output_type": "stream",
     "text": [
      "Enter WebMO password:\n"
     ]
    }
   ],
   "source": [
    "# %load http://pople.chem.wisc.edu/~webmo/WebMO/cgi-bin/rest.cgi/templates/rest/6961?username=schmidt\n",
    "import requests\n",
    "from getpass import getpass\n",
    "\n",
    "baseURL = \"http://pople.chem.wisc.edu//~webmo/WebMO/cgi-bin/rest.cgi\"\n",
    "username=\"schmidt\"\n",
    "jobNumber=6961\n",
    "\n",
    "print(\"Enter WebMO password:\")\n",
    "password=getpass()\n",
    "\n",
    "try:\n",
    "    #obtain a REST token\n",
    "    login={'username' : username, 'password' : password} #WebMO login information, used to retrieve a REST access token\n",
    "    r = requests.post(baseURL + \"/sessions\", data=login)\n",
    "    r.raise_for_status() #raise an exception if there is a problem with the request\n",
    "    auth=r.json() #include both 'username' and 'token' parameters needed to authenticate further REST requests\n",
    "    \n",
    "    #obtain results from the specified job number\n",
    "    r = requests.get(baseURL + \"/jobs/%d/results\" % jobNumber, params=auth)\n",
    "    r.raise_for_status() #raise an exception if there is a problem with the request\n",
    "    results=r.json()\n",
    "    \n",
    "    #read out the calculated properties\n",
    "    properties=results[\"properties\"]\n",
    "    print(properties)\n",
    "        \n",
    "    #End the REST session\n",
    "    r = requests.delete(baseURL + \"/sessions\", params=auth)\n",
    "    r.raise_for_status() #raise an exception if there is a problem with the request\n",
    "\n",
    "    \n",
    "#\n",
    "#Catch any HTTP / REST exceptions and log the underlying cause\n",
    "#\n",
    "except requests.exceptions.HTTPError:\n",
    "    print(\"Error during REST request: %s\" % r.json()[\"error\"])\n"
   ]
  },
  {
   "cell_type": "code",
   "execution_count": null,
   "metadata": {},
   "outputs": [],
   "source": []
  }
 ],
 "metadata": {
  "kernelspec": {
   "display_name": "Python 3",
   "language": "python",
   "name": "python3"
  },
  "language_info": {
   "codemirror_mode": {
    "name": "ipython",
    "version": 3
   },
   "file_extension": ".py",
   "mimetype": "text/x-python",
   "name": "python",
   "nbconvert_exporter": "python",
   "pygments_lexer": "ipython3",
   "version": "3.6.5"
  }
 },
 "nbformat": 4,
 "nbformat_minor": 2
}
